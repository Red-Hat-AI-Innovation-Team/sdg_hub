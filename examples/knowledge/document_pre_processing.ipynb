{
 "cells": [
  {
   "cell_type": "markdown",
   "metadata": {},
   "source": [
    "### Using docling v1"
   ]
  },
  {
   "cell_type": "code",
   "execution_count": null,
   "metadata": {},
   "outputs": [],
   "source": [
    "data_dir = 'document_collection/ibm-annual-report'\n",
    "!OMP_NUM_THREADS=32 mamba run -n docling python ../scripts/docparser.py --input-dir {data_dir} --output-dir {data_dir}"
   ]
  },
  {
   "cell_type": "markdown",
   "metadata": {},
   "source": [
    "### Using docling v2"
   ]
  },
  {
   "cell_type": "code",
   "execution_count": null,
   "metadata": {},
   "outputs": [],
   "source": [
    "data_dir = 'document_collection/ibm-annual-report'\n",
    "!OMP_NUM_THREADS=32 mamba run -n docling python ../scripts/docparser_v2.py --input-dir {data_dir} --output-dir {data_dir} --c docling_v2_config.yaml"
   ]
  },
  {
   "cell_type": "markdown",
   "metadata": {},
   "source": [
    "#### Docling Hybrid Chunking"
   ]
  },
  {
   "cell_type": "code",
   "execution_count": 6,
   "metadata": {},
   "outputs": [
    {
     "name": "stdout",
     "output_type": "stream",
     "text": [
      "Note: you may need to restart the kernel to use updated packages.\n"
     ]
    }
   ],
   "source": [
    "%pip install -q -U docling"
   ]
  },
  {
   "cell_type": "code",
   "execution_count": 51,
   "metadata": {},
   "outputs": [],
   "source": [
    "from docling.document_converter import DocumentConverter, PdfFormatOption\n",
    "from docling.chunking import HybridChunker\n",
    "import yaml\n",
    "from docling.datamodel.base_models import InputFormat\n",
    "from transformers import AutoTokenizer\n",
    "from datasets import Dataset\n",
    "\n",
    "\n",
    "# Standard\n",
    "from pathlib import Path\n",
    "import yaml\n",
    "\n",
    "# Third Party\n",
    "from docling.backend.pypdfium2_backend import PyPdfiumDocumentBackend\n",
    "from docling.datamodel.base_models import InputFormat\n",
    "from docling.datamodel.pipeline_options import (\n",
    "    AcceleratorDevice,\n",
    "    AcceleratorOptions,\n",
    "    PdfPipelineOptions,\n",
    ")\n",
    "from docling.document_converter import DocumentConverter, PdfFormatOption\n",
    "from docling.models.ocr_mac_model import OcrMacOptions\n",
    "from docling.models.tesseract_ocr_cli_model import TesseractCliOcrOptions\n",
    "from docling.models.tesseract_ocr_model import TesseractOcrOptions\n",
    "import click"
   ]
  },
  {
   "cell_type": "code",
   "execution_count": 39,
   "metadata": {},
   "outputs": [],
   "source": [
    "def chunk_document(document_path, max_tokens=500):\n",
    "    \"\"\"\n",
    "    Chunk the document using docling hybrid chunking\n",
    "    \"\"\"\n",
    "    doc = DocumentConverter().convert(source=document_path).document\n",
    "    chunker = HybridChunker(max_tokens=max_tokens, tokenizer=AutoTokenizer.from_pretrained(\"sentence-transformers/all-MiniLM-L6-v2\"), merge_peers=True)\n",
    "    chunk_iter = chunker.chunk(dl_doc=doc)\n",
    "    document_chunks = []\n",
    "    for _, chunk in enumerate(chunk_iter):\n",
    "        enriched_text = chunker.serialize(chunk=chunk)\n",
    "        document_chunks.append(enriched_text)\n",
    "    return document_chunks\n",
    "\n",
    "def add_icls_to_chunks(chunks: list[str], icls: list[dict]):\n",
    "    # Product of chunks and icls\n",
    "    chunk_icl_product = []\n",
    "    for chunk in chunks:\n",
    "        for icl in icls:\n",
    "            chunk_icl_product.append({'document': chunk})\n",
    "            chunk_icl_product[-1].update(icl)\n",
    "    return chunk_icl_product\n"
   ]
  },
  {
   "cell_type": "code",
   "execution_count": 9,
   "metadata": {},
   "outputs": [],
   "source": [
    "data_dir = 'document_collection/ibm-annual-report'\n",
    "with open(f'../{data_dir}/qna.yaml', 'r') as f:\n",
    "    qna_yaml = yaml.safe_load(f)"
   ]
  },
  {
   "cell_type": "code",
   "execution_count": 52,
   "metadata": {},
   "outputs": [
    {
     "ename": "TypeError",
     "evalue": "unsupported operand type(s) for /: 'str' and 'str'",
     "output_type": "error",
     "traceback": [
      "\u001b[31m---------------------------------------------------------------------------\u001b[39m",
      "\u001b[31mTypeError\u001b[39m                                 Traceback (most recent call last)",
      "\u001b[36mCell\u001b[39m\u001b[36m \u001b[39m\u001b[32mIn[52]\u001b[39m\u001b[32m, line 19\u001b[39m\n\u001b[32m     17\u001b[39m conv_result = doc_converter.convert(pdf_file_path)\n\u001b[32m     18\u001b[39m content = \u001b[38;5;28mgetattr\u001b[39m(conv_result.document, \u001b[33m\"\u001b[39m\u001b[33mexport_to_html\u001b[39m\u001b[33m\"\u001b[39m)()\n\u001b[32m---> \u001b[39m\u001b[32m19\u001b[39m output_path = \u001b[43mdata_dir\u001b[49m\u001b[43m \u001b[49m\u001b[43m/\u001b[49m\u001b[43m \u001b[49m\u001b[33;43mf\u001b[39;49m\u001b[33;43m\"\u001b[39;49m\u001b[38;5;132;43;01m{\u001b[39;49;00m\u001b[43mconv_result\u001b[49m\u001b[43m.\u001b[49m\u001b[43minput\u001b[49m\u001b[43m.\u001b[49m\u001b[43mfile\u001b[49m\u001b[43m.\u001b[49m\u001b[43mstem\u001b[49m\u001b[38;5;132;43;01m}\u001b[39;49;00m\u001b[33;43m.html\u001b[39;49m\u001b[33;43m\"\u001b[39;49m\n\u001b[32m     21\u001b[39m content = \u001b[38;5;28mgetattr\u001b[39m(conv_result.document, \u001b[33m\"\u001b[39m\u001b[33mexport_to_markdown\u001b[39m\u001b[33m\"\u001b[39m)()\n\u001b[32m     22\u001b[39m output_path = data_dir / \u001b[33mf\u001b[39m\u001b[33m\"\u001b[39m\u001b[38;5;132;01m{\u001b[39;00mconv_result.input.file.stem\u001b[38;5;132;01m}\u001b[39;00m\u001b[33m.md\u001b[39m\u001b[33m\"\u001b[39m\n",
      "\u001b[31mTypeError\u001b[39m: unsupported operand type(s) for /: 'str' and 'str'"
     ]
    }
   ],
   "source": [
    "pdf_file_path = f'../{data_dir}/ibm-annual-report-2024.pdf'\n",
    "### Conver the document into markdown\n",
    "pipeline_options = PdfPipelineOptions()\n",
    "pipeline_options.do_ocr = True\n",
    "pipeline_options.do_table_structure = True\n",
    "pipeline_options.table_structure_options.do_cell_matching = True\n",
    "pipeline_options.ocr_options.lang = [\"es\"]\n",
    "pipeline_options.accelerator_options = AcceleratorOptions(\n",
    "    num_threads=4,\n",
    "    device=AcceleratorDevice.AUTO\n",
    ")\n",
    "doc_converter = DocumentConverter(\n",
    "        format_options={\n",
    "            InputFormat.PDF: PdfFormatOption(pipeline_options=pipeline_options)\n",
    "        }\n",
    "    )\n",
    "conv_result = doc_converter.convert(pdf_file_path)\n",
    "content = getattr(conv_result.document, \"export_to_html\")()\n",
    "output_path = data_dir / f\"{conv_result.input.file.stem}.html\"\n",
    "\n",
    "content = getattr(conv_result.document, \"export_to_markdown\")()\n",
    "output_path = data_dir / f\"{conv_result.input.file.stem}.md\""
   ]
  },
  {
   "cell_type": "code",
   "execution_count": null,
   "metadata": {},
   "outputs": [],
   "source": [
    "chunks = chunk_document(f'../{data_dir}/ibm-annual-report-2024.pdf')"
   ]
  },
  {
   "cell_type": "code",
   "execution_count": 40,
   "metadata": {},
   "outputs": [],
   "source": [
    "chunks_with_icls = add_icls_to_chunks(chunks, qna_yaml['seed_examples'])"
   ]
  },
  {
   "cell_type": "code",
   "execution_count": 41,
   "metadata": {},
   "outputs": [],
   "source": [
    "chunks_with_icls = Dataset.from_list(chunks_with_icls)"
   ]
  },
  {
   "cell_type": "code",
   "execution_count": null,
   "metadata": {},
   "outputs": [],
   "source": []
  }
 ],
 "metadata": {
  "kernelspec": {
   "display_name": "sdg_research",
   "language": "python",
   "name": "python3"
  },
  "language_info": {
   "codemirror_mode": {
    "name": "ipython",
    "version": 3
   },
   "file_extension": ".py",
   "mimetype": "text/x-python",
   "name": "python",
   "nbconvert_exporter": "python",
   "pygments_lexer": "ipython3",
   "version": "3.11.11"
  }
 },
 "nbformat": 4,
 "nbformat_minor": 2
}
